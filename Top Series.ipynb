{
 "cells": [
  {
   "cell_type": "code",
   "execution_count": 128,
   "metadata": {},
   "outputs": [],
   "source": [
    "import pandas as pd"
   ]
  },
  {
   "cell_type": "markdown",
   "metadata": {},
   "source": [
    "## Transform the dataset so that each user is a row and each book is a column"
   ]
  },
  {
   "cell_type": "code",
   "execution_count": 139,
   "metadata": {},
   "outputs": [],
   "source": [
    "corrections = {\n",
    "    (\"unplugthemins86\",\"unplugtheminus84\",\"unplugtheminus85\"):\"unplugtheminus80\",\n",
    "    (\"4raer\",):\"4raser\",\n",
    "    (\"czero\",):\"czero13\",\n",
    "    (\"dreamorpheussandman\",):\"dreamorpheusandman\",\n",
    "    (\"dwmmerick\",):\"dwmmerrick\",\n",
    "    (\"iamteehee11\",\"iamteehee12\",\"iamteehee3\",\"iamteehee4\",\n",
    "     \"iamteehee5\",\"iamteehee7\",\"iamteehee8\",\"iamteehee9\"):\"iamteehee2\",\n",
    "    (\"improperlyparanoid\",):\"improperly_paranoid\",\n",
    "    (\"jjackson2\",):\"jljackson2\",\n",
    "    (\"knichol\",):\"knicol\",\n",
    "    (\"lightlylantern\"):\"lightylantern\",\n",
    "    (\"lostchayote\",):\"lost_chayote\",\n",
    "    (\"maniccentra\",):\"maniccetra\",\n",
    "    (\"pokoria\",):\"pokoria\",\n",
    "    (\"shadownight312\",\"shadownight315\",\"shadownight316\",\"shadownight317\",\n",
    "    \"shadownight318\",\"shadownight319\",\"shadownight320\"):\"shadownight311\",\n",
    "    (\"tifimoof\",):\"tikimoof\",\n",
    "    (\"tkihnsey3\",\"tkinsey\"):\"tkinsey3\",\n",
    "    (\"ubalapung78\",\"ublalapung28\"):\"ublalapung78\",\n",
    "    (\"unplugthemins86\",\"unplugtheminus84\",'unplugtheminus85'):\"unplugtheminus80\"\n",
    "}\n",
    "mapping = {}\n",
    "for typos,user in corrections.items():\n",
    "    for typo in typos:\n",
    "        mapping[typo] = user\n",
    "df = pd.read_csv(\"novels.csv\",header=None)\n",
    "df.columns = [\"Series\",\"Author\",\"Count\",\"User\"]\n",
    "df[\"Series\"] = df[\"Series\"].str.strip()\n",
    "df =  (df.set_index(\"Series\")\n",
    "         [\"User\"].str.lower().str.strip().str.replace(\"\\s\",\"\")\n",
    "         .str.split(\",\",expand=True)\n",
    "         .stack().to_frame().reset_index()\n",
    "        .drop(\"level_1\",axis=1).rename(columns={0:\"User\"})\n",
    "      )\n",
    "df[\"User\"] = df[\"User\"].apply(lambda x: mapping.get(x,x))\n",
    "df = df.pivot_table(index=\"User\",columns=\"Series\",aggfunc=lambda x: 1,fill_value=0).drop(\"\",axis=0)\n",
    "df = df[df.sum(axis=1)>=4]\n",
    "df.to_csv(\"userbyseries.csv\")"
   ]
  },
  {
   "cell_type": "code",
   "execution_count": 140,
   "metadata": {},
   "outputs": [
    {
     "data": {
      "text/plain": [
       "Series\n",
       "The Stormlight Archives      183\n",
       "A Song of Ice and Fire        83\n",
       "Mistborn                      82\n",
       "Middle-Earth Universe         73\n",
       "Wheel of Time                 72\n",
       "The Kingkiller Chronicles     68\n",
       "Harry Potter                  59\n",
       "First Law                     53\n",
       "Gentleman Bastard             48\n",
       "Malazan                       37\n",
       "Riyria Chronicles             34\n",
       "Discworld                     31\n",
       "Realm of the Elderlings       31\n",
       "Lightbringer                  30\n",
       "The Dresden Files             27\n",
       "Books of Babel                23\n",
       "Dune                          23\n",
       "The Band                      20\n",
       "Cradle                        18\n",
       "Red Rising                    18\n",
       "Book of the Ancestor          17\n",
       "Broken Earth                  17\n",
       "Gods of Blood and Powder      17\n",
       "His Dark Materials            17\n",
       "Arcane Ascension              16\n",
       "Broken Empire world           16\n",
       "Worm                          16\n",
       "Hyperion Cantos               15\n",
       "Warbreaker                    14\n",
       "The Emperor's Soul            13\n",
       "dtype: int64"
      ]
     },
     "execution_count": 140,
     "metadata": {},
     "output_type": "execute_result"
    }
   ],
   "source": [
    "df1 = df[df[\"The Stormlight Archives\"]==1].sum(axis=0)\n",
    "df1.nlargest(30)"
   ]
  },
  {
   "cell_type": "code",
   "execution_count": 141,
   "metadata": {},
   "outputs": [
    {
     "data": {
      "text/plain": [
       "Series\n",
       "The Stormlight Archives        2.584699\n",
       "Licanius                       2.297511\n",
       "Elantris                       2.153916\n",
       "Children of Time               1.846214\n",
       "Warbreaker                     1.809290\n",
       "Lightbringer                   1.803279\n",
       "Arcane Ascension               1.798052\n",
       "Chronicles of Prydain          1.723133\n",
       "Mistborn                       1.682106\n",
       "Cradle                         1.661593\n",
       "Mother of Learning             1.661593\n",
       "Night Angel                    1.590584\n",
       "The Faithful and the Fallen    1.550820\n",
       "The Emperor's Soul             1.527322\n",
       "The Poppy War                  1.476971\n",
       "A Practical Guide to Evil      1.435944\n",
       "Circe                          1.435944\n",
       "Legend of Drizzt               1.435944\n",
       "The Band                       1.435944\n",
       "The Wandering Inn              1.435944\n",
       "Gods of Blood and Powder       1.417416\n",
       "The Kingkiller Chronicles      1.394917\n",
       "Harry Potter                   1.361583\n",
       "Wheel of Time                  1.338837\n",
       "Raven's Shadow                 1.292350\n",
       "Skulduggery Pleasant           1.292350\n",
       "The Expanse                    1.292350\n",
       "Dark Tower                     1.240656\n",
       "A Song of Ice and Fire         1.225886\n",
       "Riyria Chronicles              1.220553\n",
       "dtype: float64"
      ]
     },
     "execution_count": 141,
     "metadata": {},
     "output_type": "execute_result"
    }
   ],
   "source": [
    "sa = pd.concat([df.sum(axis=0)/len(df),df1/df1.max()],axis=1,sort=False)\n",
    "sa.columns = [\"book\",\"book|sa\"]\n",
    "sa = sa[sa[\"book\"]>(5/len(df))]\n",
    "(sa[\"book|sa\"]/sa[\"book\"]).nlargest(30)"
   ]
  },
  {
   "cell_type": "code",
   "execution_count": 138,
   "metadata": {},
   "outputs": [
    {
     "data": {
      "text/plain": [
       "Series\n",
       "Wheel of Time                      1.000000\n",
       "The Stormlight Archives            0.517986\n",
       "A Song of Ice and Fire             0.431655\n",
       "Middle-Earth Universe              0.424460\n",
       "Mistborn                           0.359712\n",
       "The Kingkiller Chronicles          0.345324\n",
       "Harry Potter                       0.287770\n",
       "Gentleman Bastard                  0.280576\n",
       "First Law                          0.273381\n",
       "Malazan                            0.273381\n",
       "Realm of the Elderlings            0.230216\n",
       "Discworld                          0.172662\n",
       "Riyria Chronicles                  0.158273\n",
       "The Dresden Files                  0.158273\n",
       "Broken Earth                       0.151079\n",
       "Lightbringer                       0.129496\n",
       "Dune                               0.115108\n",
       "The Band                           0.100719\n",
       "His Dark Materials                 0.093525\n",
       "Hyperion Cantos                    0.093525\n",
       "Worm                               0.086331\n",
       "Kushiel's Legacy                   0.079137\n",
       "Books of Babel                     0.071942\n",
       "Broken Empire world                0.071942\n",
       "Cradle                             0.071942\n",
       "Hitchhikers Guide to the Galaxy    0.071942\n",
       "The Chronicles of Narnia           0.071942\n",
       "Tigana                             0.071942\n",
       "Arcane Ascension                   0.064748\n",
       "Dark Tower                         0.064748\n",
       "dtype: float64"
      ]
     },
     "execution_count": 138,
     "metadata": {},
     "output_type": "execute_result"
    }
   ],
   "source": [
    "series_name = \"Wheel of Time\"\n",
    "df1 = df[df[series_name]==1].sum(axis=0).nlargest(30)\n",
    "df1/df1.max()"
   ]
  }
 ],
 "metadata": {
  "kernelspec": {
   "display_name": "Python 3",
   "language": "python",
   "name": "python3"
  },
  "language_info": {
   "codemirror_mode": {
    "name": "ipython",
    "version": 3
   },
   "file_extension": ".py",
   "mimetype": "text/x-python",
   "name": "python",
   "nbconvert_exporter": "python",
   "pygments_lexer": "ipython3",
   "version": "3.6.7"
  }
 },
 "nbformat": 4,
 "nbformat_minor": 2
}
